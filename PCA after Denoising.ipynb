{
 "cells": [
  {
   "cell_type": "code",
   "execution_count": 1,
   "metadata": {},
   "outputs": [
    {
     "name": "stderr",
     "output_type": "stream",
     "text": [
      "Using TensorFlow backend.\n"
     ]
    }
   ],
   "source": [
    "from keras.datasets import mnist"
   ]
  },
  {
   "cell_type": "code",
   "execution_count": 2,
   "metadata": {
    "collapsed": true
   },
   "outputs": [],
   "source": [
    "import numpy as np"
   ]
  },
  {
   "cell_type": "code",
   "execution_count": 3,
   "metadata": {
    "collapsed": true
   },
   "outputs": [],
   "source": [
    "(x_train, _), (x_test, _) = mnist.load_data()"
   ]
  },
  {
   "cell_type": "code",
   "execution_count": 4,
   "metadata": {
    "collapsed": true
   },
   "outputs": [],
   "source": [
    "x_train = x_train.astype('float32') / 255.\n",
    "x_test = x_test.astype('float32') / 255.\n",
    "x_train = np.reshape(x_train, (len(x_train), 28, 28, 1))\n",
    "x_test = np.reshape(x_test, (len(x_test), 28, 28, 1))"
   ]
  },
  {
   "cell_type": "code",
   "execution_count": 5,
   "metadata": {
    "collapsed": true
   },
   "outputs": [],
   "source": [
    "noise = 0.5 #noise factor\n",
    "x_train_noisy = x_train + noise * np.random.normal(loc=0.0, scale=1.0, size=x_train.shape)\n",
    "x_test_noisy = x_test + noise * np.random.normal(loc=0.0, scale=1.0, size=x_test.shape)\n",
    "x_train_noisy = np.clip(x_train_noisy, 0., 1.)\n",
    "x_test_noisy = np.clip(x_test_noisy, 0., 1.)"
   ]
  },
  {
   "cell_type": "code",
   "execution_count": 6,
   "metadata": {
    "collapsed": true
   },
   "outputs": [],
   "source": [
    "import matplotlib.pyplot as plt"
   ]
  },
  {
   "cell_type": "code",
   "execution_count": 7,
   "metadata": {},
   "outputs": [
    {
     "data": {
      "image/png": "[encoded data removed]",
      "text/plain": [
       "<Figure size 1440x144 with 10 Axes>"
      ]
     },
     "metadata": {},
     "output_type": "display_data"
    }
   ],
   "source": [
    "n = 10\n",
    "plt.figure(figsize=(20,2))\n",
    "for i in range(n):\n",
    "    ax = plt.subplot(1, n, i+1)\n",
    "    plt.imshow(x_test_noisy[i].reshape(28,28))\n",
    "    plt.gray()\n",
    "    ax.get_xaxis().set_visible(False)\n",
    "    ax.get_yaxis().set_visible(False)\n",
    "plt.show()"
   ]
  },
  {
   "cell_type": "code",
   "execution_count": 8,
   "metadata": {
    "collapsed": true
   },
   "outputs": [],
   "source": [
    "from keras.layers import Input, Dense, Conv2D, MaxPooling2D, UpSampling2D\n",
    "from keras.models import Model"
   ]
  },
  {
   "cell_type": "code",
   "execution_count": 9,
   "metadata": {
    "collapsed": true
   },
   "outputs": [],
   "source": [
    "#CNN\n",
    "input_img = Input(shape=(28,28,1))\n",
    "\n",
    "x = Conv2D(32, (3, 3), activation='relu', padding='same')(input_img)\n",
    "x =  MaxPooling2D((2,2), padding='same')(x)\n",
    "x = Conv2D(32, (3, 3), activation='relu', padding='same')(x)\n",
    "encoded = MaxPooling2D((2,2), padding='same')(x)\n",
    "#CNN\n",
    "\n",
    "#DCNN\n",
    "x = Conv2D(32, (3, 3), activation='relu', padding='same')(encoded)\n",
    "x = UpSampling2D((2,2))(x)\n",
    "x = Conv2D(32, (3, 3), activation='relu', padding='same')(x)\n",
    "x = UpSampling2D((2,2))(x)\n",
    "decoded = Conv2D(1, (3, 3), activation='sigmoid', padding='same')(x)\n",
    "\n",
    "autoencoder = Model(input_img, decoded)\n",
    "autoencoder.compile(optimizer='adadelta', loss='binary_crossentropy')"
   ]
  },
  {
   "cell_type": "code",
   "execution_count": 10,
   "metadata": {},
   "outputs": [
    {
     "name": "stdout",
     "output_type": "stream",
     "text": [
      "WARNING:tensorflow:From c:\\users\\akash\\anaconda3\\envs\\tensorflow\\lib\\site-packages\\tensorflow\\contrib\\learn\\python\\learn\\datasets\\base.py:198: retry (from tensorflow.contrib.learn.python.learn.datasets.base) is deprecated and will be removed in a future version.\n",
      "Instructions for updating:\n",
      "Use the retry module or similar alternatives.\n",
      "Train on 60000 samples, validate on 10000 samples\n",
      "Epoch 1/25\n",
      "60000/60000 [==============================] - 190s 3ms/step - loss: 0.1838 - val_loss: 0.1243\n",
      "Epoch 2/25\n",
      "60000/60000 [==============================] - 210s 4ms/step - loss: 0.1193 - val_loss: 0.1133\n",
      "Epoch 3/25\n",
      "60000/60000 [==============================] - 209s 3ms/step - loss: 0.1115 - val_loss: 0.1073\n",
      "Epoch 4/25\n",
      "60000/60000 [==============================] - 186s 3ms/step - loss: 0.1076 - val_loss: 0.1061\n",
      "Epoch 5/25\n",
      "60000/60000 [==============================] - 197s 3ms/step - loss: 0.1055 - val_loss: 0.1039\n",
      "Epoch 6/25\n",
      "60000/60000 [==============================] - 198s 3ms/step - loss: 0.1043 - val_loss: 0.1025\n",
      "Epoch 7/25\n",
      "60000/60000 [==============================] - 267s 4ms/step - loss: 0.1031 - val_loss: 0.1012\n",
      "Epoch 8/25\n",
      "60000/60000 [==============================] - 270s 4ms/step - loss: 0.1022 - val_loss: 0.1037\n",
      "Epoch 9/25\n",
      "60000/60000 [==============================] - 272s 5ms/step - loss: 0.1015 - val_loss: 0.1030\n",
      "Epoch 10/25\n",
      "60000/60000 [==============================] - 277s 5ms/step - loss: 0.1011 - val_loss: 0.1002\n",
      "Epoch 11/25\n",
      "60000/60000 [==============================] - 268s 4ms/step - loss: 0.1006 - val_loss: 0.0995\n",
      "Epoch 12/25\n",
      "60000/60000 [==============================] - 273s 5ms/step - loss: 0.1002 - val_loss: 0.1001\n",
      "Epoch 13/25\n",
      "60000/60000 [==============================] - 273s 5ms/step - loss: 0.0998 - val_loss: 0.0982\n",
      "Epoch 14/25\n",
      "60000/60000 [==============================] - 279s 5ms/step - loss: 0.0995 - val_loss: 0.0983\n",
      "Epoch 15/25\n",
      "60000/60000 [==============================] - 272s 5ms/step - loss: 0.0992 - val_loss: 0.0978\n",
      "Epoch 16/25\n",
      "60000/60000 [==============================] - 268s 4ms/step - loss: 0.0990 - val_loss: 0.0991\n",
      "Epoch 17/25\n",
      "60000/60000 [==============================] - 268s 4ms/step - loss: 0.0987 - val_loss: 0.0993\n",
      "Epoch 18/25\n",
      "60000/60000 [==============================] - 267s 4ms/step - loss: 0.0985 - val_loss: 0.0993\n",
      "Epoch 19/25\n",
      "60000/60000 [==============================] - 269s 4ms/step - loss: 0.0983 - val_loss: 0.0985\n",
      "Epoch 20/25\n",
      "60000/60000 [==============================] - 270s 4ms/step - loss: 0.0982 - val_loss: 0.0973\n",
      "Epoch 21/25\n",
      "60000/60000 [==============================] - 270s 4ms/step - loss: 0.0980 - val_loss: 0.0967\n",
      "Epoch 22/25\n",
      "60000/60000 [==============================] - 260s 4ms/step - loss: 0.0977 - val_loss: 0.0967\n",
      "Epoch 23/25\n",
      "60000/60000 [==============================] - 235s 4ms/step - loss: 0.0976 - val_loss: 0.0969\n",
      "Epoch 24/25\n",
      "60000/60000 [==============================] - 233s 4ms/step - loss: 0.0975 - val_loss: 0.0963\n",
      "Epoch 25/25\n",
      "60000/60000 [==============================] - 231s 4ms/step - loss: 0.0973 - val_loss: 0.0966\n"
     ]
    },
    {
     "data": {
      "text/plain": [
       "<keras.callbacks.History at 0x1e310671f28>"
      ]
     },
     "execution_count": 10,
     "metadata": {},
     "output_type": "execute_result"
    }
   ],
   "source": [
    "#Training for 1000 epochs\n",
    "from keras.callbacks import TensorBoard\n",
    "autoencoder.fit(x_train_noisy, x_train,\n",
    "               epochs=25, batch_size=128,\n",
    "               shuffle=True,\n",
    "               validation_data=(x_test_noisy, x_test),\n",
    "               callbacks=[TensorBoard(log_dir='/tmp/tb', histogram_freq=0, write_graph=False)])"
   ]
  },
  {
   "cell_type": "code",
   "execution_count": 11,
   "metadata": {
    "collapsed": true
   },
   "outputs": [],
   "source": [
    "decoded_img = autoencoder.predict(x_test_noisy)"
   ]
  },
  {
   "cell_type": "code",
   "execution_count": 12,
   "metadata": {},
   "outputs": [
    {
     "data": {
      "image/png": "[encoded data removed]",
      "text/plain": [
       "<Figure size 1440x144 with 10 Axes>"
      ]
     },
     "metadata": {},
     "output_type": "display_data"
    }
   ],
   "source": [
    "n = 10\n",
    "plt.figure(figsize=(20,2))\n",
    "for i in range(n):\n",
    "    ax = plt.subplot(1, n, i+1)\n",
    "    plt.imshow(decoded_img[i].reshape(28,28))\n",
    "    plt.gray()\n",
    "    ax.get_xaxis().set_visible(False)\n",
    "    ax.get_yaxis().set_visible(False)\n",
    "plt.show()"
   ]
  },
  {
   "cell_type": "code",
   "execution_count": 13,
   "metadata": {},
   "outputs": [
    {
     "name": "stdout",
     "output_type": "stream",
     "text": [
      "Using matplotlib backend: Qt5Agg\n",
      "Populating the interactive namespace from numpy and matplotlib\n"
     ]
    },
    {
     "name": "stderr",
     "output_type": "stream",
     "text": [
      "c:\\users\\akash\\anaconda3\\envs\\tensorflow\\lib\\site-packages\\IPython\\core\\magics\\pylab.py:160: UserWarning: pylab import has clobbered these variables: ['plt']\n",
      "`%matplotlib` prevents importing * from pylab and numpy\n",
      "  \"\\n`%matplotlib` prevents importing * from pylab and numpy\"\n"
     ]
    }
   ],
   "source": [
    "%matplotlib inline\n",
    "import matplotlib as plt\n",
    "%pylab\n",
    "import pandas as pd"
   ]
  },
  {
   "cell_type": "code",
   "execution_count": 17,
   "metadata": {},
   "outputs": [
    {
     "name": "stdout",
     "output_type": "stream",
     "text": [
      "(10000, 28, 28, 1)\n"
     ]
    }
   ],
   "source": [
    "print(decoded_img.shape)"
   ]
  },
  {
   "cell_type": "code",
   "execution_count": 18,
   "metadata": {
    "collapsed": true
   },
   "outputs": [],
   "source": [
    "from sklearn.decomposition import PCA"
   ]
  },
  {
   "cell_type": "code",
   "execution_count": 22,
   "metadata": {},
   "outputs": [
    {
     "name": "stdout",
     "output_type": "stream",
     "text": [
      "(10000, 64)\n"
     ]
    }
   ],
   "source": [
    "decoded_img_r = np.reshape(decoded_img, (10000, 784))\n",
    "pca_img = PCA(64)\n",
    "X_proj = pca_img.fit_transform(decoded_img_r)\n",
    "print(X_proj.shape)"
   ]
  },
  {
   "cell_type": "code",
   "execution_count": 23,
   "metadata": {},
   "outputs": [
    {
     "name": "stdout",
     "output_type": "stream",
     "text": [
      "[ 0.11164165  0.1926716   0.26038873  0.31965387  0.37358072  0.41990694\n",
      "  0.45493436  0.48776704  0.51773202  0.54285431  0.56631839  0.58912104\n",
      "  0.60777026  0.62533551  0.64221156  0.65805191  0.67221552  0.68599373\n",
      "  0.69879603  0.71099925  0.72234005  0.73290598  0.74295473  0.75254148\n",
      "  0.76159376  0.77034944  0.77847576  0.78619778  0.79332232  0.80025971\n",
      "  0.80669683  0.81286091  0.81873828  0.82439595  0.82982022  0.83486152\n",
      "  0.83956409  0.84415191  0.84855002  0.85289419  0.85699672  0.86095905\n",
      "  0.86476976  0.86844987  0.87192482  0.87531     0.87858897  0.88178933\n",
      "  0.88486385  0.8877942   0.89055902  0.89328772  0.89589334  0.89847326\n",
      "  0.90086144  0.90318817  0.90542126  0.9075985   0.90969986  0.91176057\n",
      "  0.91373175  0.91565645  0.91747385  0.91927189]\n"
     ]
    }
   ],
   "source": [
    "print(np.cumsum(pca_img.explained_variance_ratio_))"
   ]
  },
  {
   "cell_type": "code",
   "execution_count": 29,
   "metadata": {},
   "outputs": [
    {
     "data": {
      "image/png": "[encoded data removed]",
      "text/plain": [
       "<Figure size 1440x144 with 10 Axes>"
      ]
     },
     "metadata": {},
     "output_type": "display_data"
    }
   ],
   "source": [
    "fig = plt.figure(figsize=(20,2))\n",
    "fig.subplots_adjust(left=0, right=1, bottom=0, top=1, hspace=0.05, wspace=0.05)\n",
    "for i in range(10):\n",
    "        ax = fig.add_subplot(5, 5, i+1, xticks=[], yticks=[])\n",
    "        ax.imshow(np.reshape(pca_img.components_[i,:], (28, 28)), cmap=plt.cm.bone, interpolation='nearest')\n",
    "        \n",
    "plt.show()"
   ]
  },
  {
   "cell_type": "code",
   "execution_count": null,
   "metadata": {
    "collapsed": true
   },
   "outputs": [],
   "source": []
  }
 ],
 "metadata": {
  "kernelspec": {
   "display_name": "Python 3",
   "language": "python",
   "name": "python3"
  },
  "language_info": {
   "codemirror_mode": {
    "name": "ipython",
    "version": 3
   },
   "file_extension": ".py",
   "mimetype": "text/x-python",
   "name": "python",
   "nbconvert_exporter": "python",
   "pygments_lexer": "ipython3",
   "version": "3.5.5"
  }
 },
 "nbformat": 4,
 "nbformat_minor": 2
}
